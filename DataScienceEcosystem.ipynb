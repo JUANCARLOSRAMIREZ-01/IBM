{
  "metadata": {
    "kernelspec": {
      "name": "python",
      "display_name": "Python (Pyodide)",
      "language": "python"
    },
    "language_info": {
      "codemirror_mode": {
        "name": "python",
        "version": 3
      },
      "file_extension": ".py",
      "mimetype": "text/x-python",
      "name": "python",
      "nbconvert_exporter": "python",
      "pygments_lexer": "ipython3",
      "version": "3.8"
    }
  },
  "nbformat_minor": 5,
  "nbformat": 4,
  "cells": [
    {
      "id": "75879e5c-6c48-49a5-873d-72916ef4e2a7",
      "cell_type": "markdown",
      "source": "# Data Science Tools and Ecosystem",
      "metadata": {}
    },
    {
      "id": "e85e6e64-54f8-42a7-a8ae-8e156ad88533",
      "cell_type": "markdown",
      "source": "In this notebook, Data Science Tools and Ecosystem are summarized.",
      "metadata": {}
    },
    {
      "id": "ecd861e8-e285-4181-98fa-ebd2054ea414",
      "cell_type": "markdown",
      "source": "**Objectives:**\n- List popular languages for Data Science\n- Identify commonly used libraries\n- Create simple Python arithmetic expressions\n- Share notebooks via GitHub",
      "metadata": {}
    },
    {
      "id": "57a00ee8-b624-4f66-a9a3-d6cd8983a69a",
      "cell_type": "markdown",
      "source": "Some of the popular languages that Data Scientists use are:\n1. Python\n2. R\n3. SQL",
      "metadata": {}
    },
    {
      "id": "0bde94a7-4501-4296-8fd2-567e722a0134",
      "cell_type": "markdown",
      "source": "Some of the commonly used libraries used by Data Scientists include:\n1. NumPy\n2. Pandas\n3. Matplotlib",
      "metadata": {}
    },
    {
      "id": "3710e056-4350-437c-bc5a-7ef8fc6f129f",
      "cell_type": "markdown",
      "source": "| Data Science Tools       |\n|--------------------------|\n| Jupyter Notebook         |\n| RStudio                  |\n| Apache Zeppelin          |",
      "metadata": {}
    },
    {
      "id": "5c3bc5bb-ccea-481b-a39f-15886cb12adc",
      "cell_type": "markdown",
      "source": "### Below are a few examples of evaluating arithmetic expressions in Python.",
      "metadata": {}
    },
    {
      "id": "5f7a4151-d809-4ac8-80ec-06659807226e",
      "cell_type": "code",
      "source": "# This is a simple arithmetic expression to multiply then add integers\n(3*4)+5",
      "metadata": {
        "trusted": true
      },
      "outputs": [
        {
          "execution_count": 1,
          "output_type": "execute_result",
          "data": {
            "text/plain": "17"
          },
          "metadata": {}
        }
      ],
      "execution_count": 1
    },
    {
      "id": "b0f85965-9353-4f02-bd73-cdb6f0be58bd",
      "cell_type": "code",
      "source": "# This will convert 200 minutes to hours by dividing by 60\n200 / 60",
      "metadata": {
        "trusted": true
      },
      "outputs": [
        {
          "execution_count": 2,
          "output_type": "execute_result",
          "data": {
            "text/plain": "3.3333333333333335"
          },
          "metadata": {}
        }
      ],
      "execution_count": 2
    },
    {
      "id": "87f63916-4e0b-4c8d-95d4-27d1193f5afd",
      "cell_type": "markdown",
      "source": "## Author\nJuan Carlos Ramírez Ortiz",
      "metadata": {}
    },
    {
      "id": "c6346ed4-d9f8-4c51-b2c9-53bb4991f305",
      "cell_type": "code",
      "source": "",
      "metadata": {
        "trusted": true
      },
      "outputs": [],
      "execution_count": null
    }
  ]
}